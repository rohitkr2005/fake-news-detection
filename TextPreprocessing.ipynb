{
 "cells": [
  {
   "cell_type": "markdown",
   "id": "0e1e7010",
   "metadata": {},
   "source": [
    "## Load Dataset"
   ]
  },
  {
   "cell_type": "code",
   "execution_count": 1,
   "id": "c9f1f27d",
   "metadata": {},
   "outputs": [
    {
     "name": "stdout",
     "output_type": "stream",
     "text": [
      "(44898, 5)\n",
      "label\n",
      "1    23481\n",
      "0    21417\n",
      "Name: count, dtype: int64\n"
     ]
    },
    {
     "data": {
      "text/html": [
       "<div>\n",
       "<style scoped>\n",
       "    .dataframe tbody tr th:only-of-type {\n",
       "        vertical-align: middle;\n",
       "    }\n",
       "\n",
       "    .dataframe tbody tr th {\n",
       "        vertical-align: top;\n",
       "    }\n",
       "\n",
       "    .dataframe thead th {\n",
       "        text-align: right;\n",
       "    }\n",
       "</style>\n",
       "<table border=\"1\" class=\"dataframe\">\n",
       "  <thead>\n",
       "    <tr style=\"text-align: right;\">\n",
       "      <th></th>\n",
       "      <th>title</th>\n",
       "      <th>text</th>\n",
       "      <th>subject</th>\n",
       "      <th>date</th>\n",
       "      <th>label</th>\n",
       "    </tr>\n",
       "  </thead>\n",
       "  <tbody>\n",
       "    <tr>\n",
       "      <th>0</th>\n",
       "      <td>Ben Stein Calls Out 9th Circuit Court: Committ...</td>\n",
       "      <td>21st Century Wire says Ben Stein, reputable pr...</td>\n",
       "      <td>US_News</td>\n",
       "      <td>February 13, 2017</td>\n",
       "      <td>1</td>\n",
       "    </tr>\n",
       "    <tr>\n",
       "      <th>1</th>\n",
       "      <td>Trump drops Steve Bannon from National Securit...</td>\n",
       "      <td>WASHINGTON (Reuters) - U.S. President Donald T...</td>\n",
       "      <td>politicsNews</td>\n",
       "      <td>April 5, 2017</td>\n",
       "      <td>0</td>\n",
       "    </tr>\n",
       "    <tr>\n",
       "      <th>2</th>\n",
       "      <td>Puerto Rico expects U.S. to lift Jones Act shi...</td>\n",
       "      <td>(Reuters) - Puerto Rico Governor Ricardo Rosse...</td>\n",
       "      <td>politicsNews</td>\n",
       "      <td>September 27, 2017</td>\n",
       "      <td>0</td>\n",
       "    </tr>\n",
       "    <tr>\n",
       "      <th>3</th>\n",
       "      <td>OOPS: Trump Just Accidentally Confirmed He Le...</td>\n",
       "      <td>On Monday, Donald Trump once again embarrassed...</td>\n",
       "      <td>News</td>\n",
       "      <td>May 22, 2017</td>\n",
       "      <td>1</td>\n",
       "    </tr>\n",
       "    <tr>\n",
       "      <th>4</th>\n",
       "      <td>Donald Trump heads for Scotland to reopen a go...</td>\n",
       "      <td>GLASGOW, Scotland (Reuters) - Most U.S. presid...</td>\n",
       "      <td>politicsNews</td>\n",
       "      <td>June 24, 2016</td>\n",
       "      <td>0</td>\n",
       "    </tr>\n",
       "  </tbody>\n",
       "</table>\n",
       "</div>"
      ],
      "text/plain": [
       "                                               title  \\\n",
       "0  Ben Stein Calls Out 9th Circuit Court: Committ...   \n",
       "1  Trump drops Steve Bannon from National Securit...   \n",
       "2  Puerto Rico expects U.S. to lift Jones Act shi...   \n",
       "3   OOPS: Trump Just Accidentally Confirmed He Le...   \n",
       "4  Donald Trump heads for Scotland to reopen a go...   \n",
       "\n",
       "                                                text       subject  \\\n",
       "0  21st Century Wire says Ben Stein, reputable pr...       US_News   \n",
       "1  WASHINGTON (Reuters) - U.S. President Donald T...  politicsNews   \n",
       "2  (Reuters) - Puerto Rico Governor Ricardo Rosse...  politicsNews   \n",
       "3  On Monday, Donald Trump once again embarrassed...          News   \n",
       "4  GLASGOW, Scotland (Reuters) - Most U.S. presid...  politicsNews   \n",
       "\n",
       "                  date  label  \n",
       "0    February 13, 2017      1  \n",
       "1       April 5, 2017       0  \n",
       "2  September 27, 2017       0  \n",
       "3         May 22, 2017      1  \n",
       "4       June 24, 2016       0  "
      ]
     },
     "execution_count": 1,
     "metadata": {},
     "output_type": "execute_result"
    }
   ],
   "source": [
    "import pandas as pd\n",
    "\n",
    "# Paths\n",
    "fake_path = \"Fake.csv\"\n",
    "real_path = \"True.csv\"\n",
    "\n",
    "fake = pd.read_csv(fake_path)\n",
    "real = pd.read_csv(real_path)\n",
    "\n",
    "# Add labels\n",
    "fake[\"label\"] = 1   # Fake = 1\n",
    "real[\"label\"] = 0   # Real = 0\n",
    "\n",
    "# Combine & shuffle\n",
    "df = pd.concat([fake, real], ignore_index=True)\n",
    "df = df.sample(frac=1, random_state=42).reset_index(drop=True)\n",
    "\n",
    "print(df.shape)\n",
    "print(df[\"label\"].value_counts())\n",
    "df.head()"
   ]
  },
  {
   "cell_type": "code",
   "execution_count": 2,
   "id": "34db70e6",
   "metadata": {},
   "outputs": [],
   "source": [
    "df[\"text\"] = df[\"title\"].fillna(\"\") + \" \" + df[\"text\"].fillna(\"\")"
   ]
  },
  {
   "cell_type": "markdown",
   "id": "76a5fe84",
   "metadata": {},
   "source": [
    "## Data Preprocessing"
   ]
  },
  {
   "cell_type": "code",
   "execution_count": 4,
   "id": "14e4de7f",
   "metadata": {},
   "outputs": [
    {
     "name": "stderr",
     "output_type": "stream",
     "text": [
      "[nltk_data] Downloading package omw-1.4 to C:\\Users\\BALRAM\n",
      "[nltk_data]     MANDAL\\AppData\\Roaming\\nltk_data...\n",
      "[nltk_data] Downloading package wordnet to C:\\Users\\BALRAM\n",
      "[nltk_data]     MANDAL\\AppData\\Roaming\\nltk_data...\n",
      "[nltk_data]   Package wordnet is already up-to-date!\n"
     ]
    }
   ],
   "source": [
    "import re\n",
    "import nltk\n",
    "from nltk.stem import WordNetLemmatizer\n",
    "\n",
    "nltk.download('omw-1.4')\n",
    "nltk.download('wordnet')\n",
    "\n",
    "lemmatizer = WordNetLemmatizer()\n",
    "\n",
    "def clean_text(text, max_words=200):\n",
    "    # Lowercase\n",
    "    text = str(text).lower()\n",
    "    # Remove HTML Tags\n",
    "    text = re.sub(r'<.*?>', ' ', text)\n",
    "    # Remove URLs\n",
    "    text = re.sub(r'http\\S+|www\\S+|https\\S+', ' ', text)\n",
    "    # Keep only letters and numbers\n",
    "    text = re.sub(r'[^a-z0-9\\s]', ' ', text)\n",
    "    # Remove extra spaces\n",
    "    text = re.sub(r'\\s+', ' ', text).strip()\n",
    "    # Tokenize and Lemmatize\n",
    "    words = text.split()[:max_words]\n",
    "    words = [lemmatizer.lemmatize(w) for w in words]\n",
    "    return ' '.join(words)"
   ]
  },
  {
   "cell_type": "code",
   "execution_count": 6,
   "id": "d8872b61",
   "metadata": {},
   "outputs": [
    {
     "name": "stdout",
     "output_type": "stream",
     "text": [
      "                                                text  \\\n",
      "0  Ben Stein Calls Out 9th Circuit Court: Committ...   \n",
      "1  Trump drops Steve Bannon from National Securit...   \n",
      "2  Puerto Rico expects U.S. to lift Jones Act shi...   \n",
      "3   OOPS: Trump Just Accidentally Confirmed He Le...   \n",
      "4  Donald Trump heads for Scotland to reopen a go...   \n",
      "\n",
      "                                          clean_text  \n",
      "0  ben stein call out 9th circuit court committed...  \n",
      "1  trump drop steve bannon from national security...  \n",
      "2  puerto rico expects u s to lift jones act ship...  \n",
      "3  oops trump just accidentally confirmed he leak...  \n",
      "4  donald trump head for scotland to reopen a gol...  \n"
     ]
    }
   ],
   "source": [
    "df[\"clean_text\"] = df[\"text\"].apply(lambda x: clean_text(x, max_words=200))\n",
    "print(df[[\"text\", \"clean_text\"]].head())"
   ]
  },
  {
   "cell_type": "markdown",
   "id": "4f5d3c46",
   "metadata": {},
   "source": [
    "## Verify Processing"
   ]
  },
  {
   "cell_type": "code",
   "execution_count": 7,
   "id": "8a89e82b",
   "metadata": {},
   "outputs": [
    {
     "name": "stdout",
     "output_type": "stream",
     "text": [
      "Original: Ben Stein Calls Out 9th Circuit Court: Committed a ‘Coup d’état’ Against the Constitution 21st Century Wire says Ben Stein, reputable professor from, Pepperdine University (also of some Hollywood fame\n",
      "Cleaned:  ben stein call out 9th circuit court committed a coup d tat against the constitution 21st century wire say ben stein reputable professor from pepperdine university also of some hollywood fame appearin\n",
      "--------------------------------------------------\n",
      "Original: Trump drops Steve Bannon from National Security Council WASHINGTON (Reuters) - U.S. President Donald Trump removed his chief strategist Steve Bannon from the National Security Council on Wednesday, re\n",
      "Cleaned:  trump drop steve bannon from national security council washington reuters u s president donald trump removed his chief strategist steve bannon from the national security council on wednesday reversing\n",
      "--------------------------------------------------\n",
      "Original: Puerto Rico expects U.S. to lift Jones Act shipping restrictions (Reuters) - Puerto Rico Governor Ricardo Rossello said on Wednesday he expected the federal government to waive the Jones Act, which wo\n",
      "Cleaned:  puerto rico expects u s to lift jones act shipping restriction reuters puerto rico governor ricardo rossello said on wednesday he expected the federal government to waive the jones act which would lif\n",
      "--------------------------------------------------\n"
     ]
    }
   ],
   "source": [
    "for i in range(3):\n",
    "    print(\"Original:\", df.loc[i, \"text\"][:200])\n",
    "    print(\"Cleaned: \", df.loc[i, \"clean_text\"][:200])\n",
    "    print(\"-\" * 50)"
   ]
  },
  {
   "cell_type": "markdown",
   "id": "09141de9",
   "metadata": {},
   "source": [
    "## TF-IDF Vectorization"
   ]
  },
  {
   "cell_type": "code",
   "execution_count": 8,
   "id": "11ead0fe",
   "metadata": {},
   "outputs": [
    {
     "name": "stdout",
     "output_type": "stream",
     "text": [
      "TF-IDF matrix shape: (44898, 20000)\n"
     ]
    }
   ],
   "source": [
    "from sklearn.feature_extraction.text import TfidfVectorizer\n",
    "\n",
    "# Initialize TF-IDF\n",
    "tfidf = TfidfVectorizer(\n",
    "    max_features=20000,\n",
    "    ngram_range=(1,2),\n",
    "    stop_words='english'\n",
    ")\n",
    "\n",
    "# Fit and Transform\n",
    "X = tfidf.fit_transform(df[\"clean_text\"])\n",
    "y = df[\"label\"].values\n",
    "\n",
    "print(\"TF-IDF matrix shape:\", X.shape)"
   ]
  },
  {
   "cell_type": "code",
   "execution_count": 9,
   "id": "9ab619ea",
   "metadata": {},
   "outputs": [
    {
     "name": "stdout",
     "output_type": "stream",
     "text": [
      "Sample features: ['00' '00 pm' '000' '000 000' '000 email' '000 euro' '000 job'\n",
      " '000 muslim' '000 page' '000 people' '000 refugee' '000 rohingya'\n",
      " '000 syrian' '000 troop' '000 vote' '000 year' '10' '10 000' '10 billion'\n",
      " '10 day' '10 million' '10 minute' '10 month' '10 people' '10 percent'\n",
      " '10 point' '10 year' '100' '100 000' '100 day' '100 fed' '100 member'\n",
      " '100 million' '100 people' '100 percent' '100 seat' '100 year' '100th'\n",
      " '101' '10th' '11' '11 2001' '11 attack' '11 memorial' '11 million'\n",
      " '11 percent' '11 year' '110' '1100' '1100 kfnx']\n"
     ]
    }
   ],
   "source": [
    "# Inspect Features\n",
    "print(\"Sample features:\", tfidf.get_feature_names_out()[:50])"
   ]
  },
  {
   "cell_type": "code",
   "execution_count": 10,
   "id": "a4118100",
   "metadata": {},
   "outputs": [
    {
     "name": "stdout",
     "output_type": "stream",
     "text": [
      "Train size: (35918, 20000)\n",
      "Test size: (8980, 20000)\n"
     ]
    }
   ],
   "source": [
    "# Train-Test Split (before modeling)\n",
    "\n",
    "from sklearn.model_selection import train_test_split\n",
    "\n",
    "X_train, X_test, y_train, y_test = train_test_split(\n",
    "    X, y, test_size=0.2, stratify=y, random_state=42\n",
    ")\n",
    "\n",
    "print(\"Train size:\", X_train.shape)\n",
    "print(\"Test size:\", X_test.shape)"
   ]
  },
  {
   "cell_type": "markdown",
   "id": "710a8401",
   "metadata": {},
   "source": [
    "## Model Training"
   ]
  },
  {
   "cell_type": "code",
   "execution_count": 11,
   "id": "a9dde076",
   "metadata": {},
   "outputs": [
    {
     "name": "stdout",
     "output_type": "stream",
     "text": [
      "Accuracy: 0.9900890868596882\n",
      "\n",
      "Classification Report:\n",
      "               precision    recall  f1-score   support\n",
      "\n",
      "           0       0.99      0.99      0.99      4284\n",
      "           1       0.99      0.99      0.99      4696\n",
      "\n",
      "    accuracy                           0.99      8980\n",
      "   macro avg       0.99      0.99      0.99      8980\n",
      "weighted avg       0.99      0.99      0.99      8980\n",
      "\n"
     ]
    }
   ],
   "source": [
    "from sklearn.linear_model import LogisticRegression\n",
    "from sklearn.metrics import accuracy_score, classification_report\n",
    "\n",
    "# Initialize Logistic Regression\n",
    "model = LogisticRegression(\n",
    "    max_iter=200,     # more iterations for convergence\n",
    "    solver=\"liblinear\" # CPU-friendly solver\n",
    ")\n",
    "\n",
    "# Train on training set\n",
    "model.fit(X_train, y_train)\n",
    "\n",
    "# Predictions\n",
    "y_pred = model.predict(X_test)\n",
    "\n",
    "# Evaluation\n",
    "print(\"Accuracy:\", accuracy_score(y_test, y_pred))\n",
    "print(\"\\nClassification Report:\\n\", classification_report(y_test, y_pred))"
   ]
  },
  {
   "cell_type": "code",
   "execution_count": 12,
   "id": "4076c30e",
   "metadata": {},
   "outputs": [
    {
     "data": {
      "text/plain": [
       "['tfidf_vectorizer.pkl']"
      ]
     },
     "execution_count": 12,
     "metadata": {},
     "output_type": "execute_result"
    }
   ],
   "source": [
    "import joblib\n",
    "\n",
    "joblib.dump(model, \"fake_news_model.pkl\")\n",
    "joblib.dump(tfidf, \"tfidf_vectorizer.pkl\")"
   ]
  },
  {
   "cell_type": "markdown",
   "id": "f9f99d57",
   "metadata": {},
   "source": [
    "## Testing"
   ]
  },
  {
   "cell_type": "code",
   "execution_count": 13,
   "id": "6d73f6b9",
   "metadata": {},
   "outputs": [
    {
     "name": "stdout",
     "output_type": "stream",
     "text": [
      "Donald Trump sends his own plane to transport 200 stranded marines -> FAKE\n",
      "NASA confirms water on Mars with new satellite evidence -> FAKE\n"
     ]
    }
   ],
   "source": [
    "def predict_news(text):\n",
    "    # Clean the text using same preprocessing\n",
    "    cleaned = clean_text(text)\n",
    "    # Transform into TF-IDF vector\n",
    "    vectorized = tfidf.transform([cleaned])\n",
    "    # Predict\n",
    "    prediction = model.predict(vectorized)[0]\n",
    "    return \"FAKE\" if prediction == 1 else \"REAL\"\n",
    "\n",
    "# Example tests\n",
    "sample_news = [\n",
    "    \"Donald Trump sends his own plane to transport 200 stranded marines\",\n",
    "    \"NASA confirms water on Mars with new satellite evidence\"\n",
    "]\n",
    "\n",
    "for news in sample_news:\n",
    "    print(news, \"->\", predict_news(news))"
   ]
  }
 ],
 "metadata": {
  "kernelspec": {
   "display_name": "Python 3",
   "language": "python",
   "name": "python3"
  },
  "language_info": {
   "codemirror_mode": {
    "name": "ipython",
    "version": 3
   },
   "file_extension": ".py",
   "mimetype": "text/x-python",
   "name": "python",
   "nbconvert_exporter": "python",
   "pygments_lexer": "ipython3",
   "version": "3.13.7"
  }
 },
 "nbformat": 4,
 "nbformat_minor": 5
}
